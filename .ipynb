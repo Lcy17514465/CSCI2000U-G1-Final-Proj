{
 "cells": [
  {
   "cell_type": "markdown",
   "metadata": {},
   "source": [
    "# CSCI 2000U - Scientific Data Analysis\n",
    "## Final Project - Group 1\n",
    "\n",
    "Group Members:\n",
    "Russell Ngo - 100791124,\n",
    "Fadi Chamas - 100787929,\n",
    "Maxwell Lin - 100697588,\n",
    "\n",
    "**Due date:** Dec 6th 11:59PM via Canvas."
   ]
  },
  {
   "cell_type": "markdown",
   "metadata": {},
   "source": [
    "## Introduction\n",
    "Since the dawn of the era of smartphones and the Internet of Things, mobile and wireless devices and technologies have not only caught the attention of the mainstream media, but allowed computing as a whole to obtain mainstream acceptance. In addition, due to the simplicity of smartphones, they are easily accessible. Due to both these changes, the entire world of software development was dealt with an influx of users. With such a large number of entries, and a theme that is currently on everybody’s mind, it was a no-brainer to choose a dataset that had a relation to mobile devices. Therefore, it was decided that the “Google Play Store Apps” dataset would be chosen for this project. The Google Play Store comes preinstalled with every mobile device that is running any version of the Android operating system. In addition, the Google Play Store is generally needed to install any application that is not already preinstalled on the device. Therefore, it can be assumed that the Google Play Store itself is one of -- if not the -- most used applications available for Android devices. To conclude, this dataset was chosen due to the fact that the application this dataset is based upon has a large scope of users and the conclusions that can be drawn from this dataset are relevant to society as a whole."
   ]
  },
  {
   "cell_type": "markdown",
   "metadata": {},
   "source": [
    "## Description of Data\n",
    "This is a compilation of data for 10,000 android apps available for download on the Google Play Store (or formerly known as the Android Market). The data was obtained by web-scraping the Google Play Store. The dataset is licensed under the Creative Commons Attribution 3.0 Unported License. It was originally created on September 4, 2018 and last updated on February 3, 2019."
   ]
  },
  {
   "cell_type": "markdown",
   "metadata": {},
   "source": [
    "## Analysis of the Data\n",
    "\n",
    "The dataset is usable in terms of analysis. However, there are many flaws when it comes to reading what it has to offer. In nearly all columns, there are inputs that do not fit certain categories. The size column is the most unclear as its description is simply \"Size of the app\", with data that comes paried with a 'k' or 'M'. This should be converted to a proper float or double. Another column of concern is the install column, which contains vague parameters instead of a solid integer and contains a '+'. This can make conclusions that use this column imprecise. Finally, the price column needs the '$' symbol removed and the inputs turned into floats or doubles."
   ]
  },
  {
   "cell_type": "markdown",
   "metadata": {},
   "source": [
    "## Exploratory Data Analysis"
   ]
  },
  {
   "cell_type": "markdown",
   "metadata": {},
   "source": [
    "## Potential Data Science"
   ]
  },
  {
   "cell_type": "code",
   "execution_count": null,
   "metadata": {},
   "outputs": [],
   "source": []
  }
 ],
 "metadata": {
  "interpreter": {
   "hash": "5b264724e3156150c156a63767e1f8813d6df8e8cbd3ef950172a142bdfc56d3"
  },
  "kernelspec": {
   "display_name": "Python 3.10.0 64-bit",
   "language": "python",
   "name": "python3"
  },
  "language_info": {
   "codemirror_mode": {
    "name": "ipython",
    "version": 3
   },
   "file_extension": ".py",
   "mimetype": "text/x-python",
   "name": "python",
   "nbconvert_exporter": "python",
   "pygments_lexer": "ipython3",
   "version": "3.10.0"
  },
  "orig_nbformat": 4
 },
 "nbformat": 4,
 "nbformat_minor": 2
}
