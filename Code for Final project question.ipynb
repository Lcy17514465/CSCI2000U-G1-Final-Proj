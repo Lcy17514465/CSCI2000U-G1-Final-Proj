{
 "cells": [
  {
   "cell_type": "code",
   "execution_count": 1,
   "id": "fb578db2",
   "metadata": {},
   "outputs": [
    {
     "name": "stdout",
     "output_type": "stream",
     "text": [
      "10839\n",
      "2\n",
      "<class 'list'>\n"
     ]
    }
   ],
   "source": [
    "#importing used libraries\n",
    "import csv\n",
    "import re\n",
    "from functools import reduce\n",
    "import numpy as np\n",
    "import pandas as pd\n",
    "from functools import reduce\n",
    "from math import sqrt\n",
    "\n",
    "# this aux function reads the CSV file and returns the data in a Python dictionary\n",
    "def get_data_csv():\n",
    "    collection = []\n",
    "    bad_data = []\n",
    "    with open('googleplaystore.csv', 'r', encoding='utf-8') as f:\n",
    "        for line in csv.DictReader(f):\n",
    "            try:\n",
    "                has_none = False\n",
    "                for key,value in line.items():\n",
    "                    if value == None:\n",
    "                        raise Exception('')\n",
    "                # the following steps are the cleaning process for the dataset \n",
    "                line['Rating'] = float(line['Rating'])\n",
    "\n",
    "                line['Reviews'] = int(line['Reviews'])\n",
    "                # we convert the 'Rating' column from str to float \n",
    "                # and convert 'Reviews' column from str to int\n",
    "\n",
    "                size_unit = line['Size'][-1]\n",
    "                mutiplier = 1\n",
    "               \n",
    "                \n",
    "                if size_unit.upper() == 'M':\n",
    "                    mutiplier = 1024 * 1024\n",
    "                elif size_unit.upper() == 'K':\n",
    "                    mutiplier = 1024\n",
    "                # there are 'k' and ' M' in 'Size' coumn, beacause this\n",
    "                # is the size of an software, then we convert \n",
    "                # 'k' to '*1024' and 'M' to '1024'\n",
    "                else:\n",
    "                    line['Size'] = '-1s'\n",
    "                line['Size'] = float(line['Size'][:-1]) * mutiplier \n",
    "\n",
    "                line['Installs'] = int(line['Installs'][:-1].replace(',', ''))\n",
    "                # there is '+' at the end of data in 'Installs' column, \n",
    "                # we convert 'number+' to 'number * 1'\n",
    "                \n",
    "                if line['Price'] == '0':\n",
    "                    line['Price'] = 0\n",
    "                else:\n",
    "                    line['Price'] = float(line['Price'][1:])\n",
    "                # we change the data type in 'Price' column from str to int\n",
    "                collection.append(line)\n",
    "            except:\n",
    "                bad_data.append(line)\n",
    "                # because there are some data have missing concept, then\n",
    "                # we stored these missing data into  bad_data\n",
    "        return collection,bad_data\n",
    "\n",
    "\n",
    "#at last, we convert all the data to int or float and ignore bad data\n",
    "#this is convenient for us to calculate the following data \n",
    "\n",
    "\n",
    "# do not run the plot code more than once \n",
    "# if the code is run more than once, the size of each content label\n",
    "# will explode, if this situation happened, restart the kernel\n",
    "# we didn't know what's wrong with this situation \n",
    "    \n",
    "    \n",
    "# the data\n",
    "data, bad_data = get_data_csv()\n",
    "print(len(data))\n",
    "print(len(bad_data))\n",
    "print(type(data))"
   ]
  },
  {
   "cell_type": "code",
   "execution_count": 2,
   "id": "ffb01fd9",
   "metadata": {},
   "outputs": [
    {
     "data": {
      "text/html": [
       "<div>\n",
       "<style scoped>\n",
       "    .dataframe tbody tr th:only-of-type {\n",
       "        vertical-align: middle;\n",
       "    }\n",
       "\n",
       "    .dataframe tbody tr th {\n",
       "        vertical-align: top;\n",
       "    }\n",
       "\n",
       "    .dataframe thead th {\n",
       "        text-align: right;\n",
       "    }\n",
       "</style>\n",
       "<table border=\"1\" class=\"dataframe\">\n",
       "  <thead>\n",
       "    <tr style=\"text-align: right;\">\n",
       "      <th></th>\n",
       "      <th>App</th>\n",
       "      <th>Category</th>\n",
       "      <th>Rating</th>\n",
       "      <th>Reviews</th>\n",
       "      <th>Size</th>\n",
       "      <th>Installs</th>\n",
       "      <th>Type</th>\n",
       "      <th>Price</th>\n",
       "      <th>Content Rating</th>\n",
       "      <th>Genres</th>\n",
       "      <th>Last Updated</th>\n",
       "      <th>Current Ver</th>\n",
       "      <th>Android Ver</th>\n",
       "    </tr>\n",
       "  </thead>\n",
       "  <tbody>\n",
       "    <tr>\n",
       "      <th>0</th>\n",
       "      <td>Photo Editor &amp; Candy Camera &amp; Grid &amp; ScrapBook</td>\n",
       "      <td>ART_AND_DESIGN</td>\n",
       "      <td>4.1</td>\n",
       "      <td>159</td>\n",
       "      <td>19M</td>\n",
       "      <td>10,000+</td>\n",
       "      <td>Free</td>\n",
       "      <td>0</td>\n",
       "      <td>Everyone</td>\n",
       "      <td>Art &amp; Design</td>\n",
       "      <td>January 7, 2018</td>\n",
       "      <td>1.0.0</td>\n",
       "      <td>4.0.3 and up</td>\n",
       "    </tr>\n",
       "    <tr>\n",
       "      <th>1</th>\n",
       "      <td>Coloring book moana</td>\n",
       "      <td>ART_AND_DESIGN</td>\n",
       "      <td>3.9</td>\n",
       "      <td>967</td>\n",
       "      <td>14M</td>\n",
       "      <td>500,000+</td>\n",
       "      <td>Free</td>\n",
       "      <td>0</td>\n",
       "      <td>Everyone</td>\n",
       "      <td>Art &amp; Design;Pretend Play</td>\n",
       "      <td>January 15, 2018</td>\n",
       "      <td>2.0.0</td>\n",
       "      <td>4.0.3 and up</td>\n",
       "    </tr>\n",
       "    <tr>\n",
       "      <th>2</th>\n",
       "      <td>U Launcher Lite – FREE Live Cool Themes, Hide ...</td>\n",
       "      <td>ART_AND_DESIGN</td>\n",
       "      <td>4.7</td>\n",
       "      <td>87510</td>\n",
       "      <td>8.7M</td>\n",
       "      <td>5,000,000+</td>\n",
       "      <td>Free</td>\n",
       "      <td>0</td>\n",
       "      <td>Everyone</td>\n",
       "      <td>Art &amp; Design</td>\n",
       "      <td>August 1, 2018</td>\n",
       "      <td>1.2.4</td>\n",
       "      <td>4.0.3 and up</td>\n",
       "    </tr>\n",
       "    <tr>\n",
       "      <th>3</th>\n",
       "      <td>Sketch - Draw &amp; Paint</td>\n",
       "      <td>ART_AND_DESIGN</td>\n",
       "      <td>4.5</td>\n",
       "      <td>215644</td>\n",
       "      <td>25M</td>\n",
       "      <td>50,000,000+</td>\n",
       "      <td>Free</td>\n",
       "      <td>0</td>\n",
       "      <td>Teen</td>\n",
       "      <td>Art &amp; Design</td>\n",
       "      <td>June 8, 2018</td>\n",
       "      <td>Varies with device</td>\n",
       "      <td>4.2 and up</td>\n",
       "    </tr>\n",
       "    <tr>\n",
       "      <th>4</th>\n",
       "      <td>Pixel Draw - Number Art Coloring Book</td>\n",
       "      <td>ART_AND_DESIGN</td>\n",
       "      <td>4.3</td>\n",
       "      <td>967</td>\n",
       "      <td>2.8M</td>\n",
       "      <td>100,000+</td>\n",
       "      <td>Free</td>\n",
       "      <td>0</td>\n",
       "      <td>Everyone</td>\n",
       "      <td>Art &amp; Design;Creativity</td>\n",
       "      <td>June 20, 2018</td>\n",
       "      <td>1.1</td>\n",
       "      <td>4.4 and up</td>\n",
       "    </tr>\n",
       "  </tbody>\n",
       "</table>\n",
       "</div>"
      ],
      "text/plain": [
       "                                                 App        Category  Rating  \\\n",
       "0     Photo Editor & Candy Camera & Grid & ScrapBook  ART_AND_DESIGN     4.1   \n",
       "1                                Coloring book moana  ART_AND_DESIGN     3.9   \n",
       "2  U Launcher Lite – FREE Live Cool Themes, Hide ...  ART_AND_DESIGN     4.7   \n",
       "3                              Sketch - Draw & Paint  ART_AND_DESIGN     4.5   \n",
       "4              Pixel Draw - Number Art Coloring Book  ART_AND_DESIGN     4.3   \n",
       "\n",
       "  Reviews  Size     Installs  Type Price Content Rating  \\\n",
       "0     159   19M      10,000+  Free     0       Everyone   \n",
       "1     967   14M     500,000+  Free     0       Everyone   \n",
       "2   87510  8.7M   5,000,000+  Free     0       Everyone   \n",
       "3  215644   25M  50,000,000+  Free     0           Teen   \n",
       "4     967  2.8M     100,000+  Free     0       Everyone   \n",
       "\n",
       "                      Genres      Last Updated         Current Ver  \\\n",
       "0               Art & Design   January 7, 2018               1.0.0   \n",
       "1  Art & Design;Pretend Play  January 15, 2018               2.0.0   \n",
       "2               Art & Design    August 1, 2018               1.2.4   \n",
       "3               Art & Design      June 8, 2018  Varies with device   \n",
       "4    Art & Design;Creativity     June 20, 2018                 1.1   \n",
       "\n",
       "    Android Ver  \n",
       "0  4.0.3 and up  \n",
       "1  4.0.3 and up  \n",
       "2  4.0.3 and up  \n",
       "3    4.2 and up  \n",
       "4    4.4 and up  "
      ]
     },
     "execution_count": 2,
     "metadata": {},
     "output_type": "execute_result"
    }
   ],
   "source": [
    "data_frame = pd.read_csv(\"googleplaystore.csv\")\n",
    "data_frame.head()"
   ]
  },
  {
   "cell_type": "code",
   "execution_count": 3,
   "id": "f6d0f27b",
   "metadata": {},
   "outputs": [
    {
     "name": "stdout",
     "output_type": "stream",
     "text": [
      "{'ART_AND_DESIGN': 1714440, 'AUTO_AND_VEHICLES': 1163666, 'BEAUTY': 396240, 'BOOKS_AND_REFERENCE': 21959069, 'BUSINESS': 13954552, 'COMICS': 3383276, 'COMMUNICATION': 815462260, 'DATING': 7291278, 'EDUCATION': 39595786, 'ENTERTAINMENT': 59178154, 'EVENTS': 161018, 'FINANCE': 17550728, 'FOOD_AND_DRINK': 8883330, 'HEALTH_AND_FITNESS': 37893743, 'HOUSE_AND_HOME': 3976385, 'LIBRARIES_AND_DEMO': 1037118, 'LIFESTYLE': 12882784, 'GAME': 1585422349, 'FAMILY': 410226330, 'MEDICAL': 1585975, 'SOCIAL': 621241422, 'SHOPPING': 115041222, 'PHOTOGRAPHY': 213516650, 'SPORTS': 70830169, 'TRAVEL_AND_LOCAL': 62617919, 'TOOLS': 273185044, 'PERSONALIZATION': 89346140, 'PRODUCTIVITY': 114116975, 'PARENTING': 958331, 'WEATHER': 14604735, 'VIDEO_PLAYERS': 110380188, 'NEWS_AND_MAGAZINES': 54400863, 'MAPS_AND_NAVIGATION': 30659254}\n",
      "GAME\n"
     ]
    }
   ],
   "source": [
    "#Q1\n",
    "review_count = {}\n",
    "for app in data:\n",
    "    category = app['Category']\n",
    "    reviews = app['Reviews']\n",
    "    if category in review_count:\n",
    "        review_count[category] += reviews\n",
    "    else:\n",
    "        review_count[category] = reviews\n",
    "# this is used to find the category with the highest reviews\n",
    "\n",
    "print(review_count)\n",
    "max_review_category = max(review_count, key=review_count.get)\n",
    "\n",
    "print(max_review_category)"
   ]
  },
  {
   "cell_type": "code",
   "execution_count": 4,
   "id": "d7213fa5",
   "metadata": {
    "scrolled": false
   },
   "outputs": [
    {
     "data": {
      "text/plain": [
       "<AxesSubplot:xlabel='Category'>"
      ]
     },
     "execution_count": 4,
     "metadata": {},
     "output_type": "execute_result"
    },
    {
     "data": {
      "image/png": "[encoded data removed]",
      "text/plain": [
       "<Figure size 864x432 with 1 Axes>"
      ]
     },
     "metadata": {
      "needs_background": "light"
     },
     "output_type": "display_data"
    }
   ],
   "source": [
    "#The plot for different categories and their own number of reviews\n",
    "import matplotlib.pyplot as plt\n",
    "import seaborn as sns\n",
    "\n",
    "\n",
    "\n",
    "df1 = pd.Series(review_count)\n",
    "\n",
    "\n",
    "df1.index.name = 'Category'\n",
    "\n",
    "df1\n",
    "df1.plot(kind='bar', figsize=(12,6), x=\"Category\")\n",
    "\n",
    "# the y-axis is the number of reviews, and  x-axis is the types of application"
   ]
  },
  {
   "cell_type": "code",
   "execution_count": 11,
   "id": "44c5ae44",
   "metadata": {},
   "outputs": [
    {
     "name": "stdout",
     "output_type": "stream",
     "text": [
      "444193.87332779774\n",
      "15465765.613709752\n",
      "1.0274628655780056\n",
      "2927757.4953881954\n",
      "85029231.64318666\n",
      "15.949700416428426\n",
      "4.191757420456972\n",
      "0.5151913531399045\n"
     ]
    }
   ],
   "source": [
    "#This cell is calculating some basic data for \"Reviews\", \"Installs\", \"Price\" and\n",
    "#\"Rating\" columns\n",
    "\n",
    "review_mean = np.mean(list(map(lambda x: x[\"Reviews\"], data)))\n",
    "installs_mean = np.mean(list(map(lambda x: x[\"Installs\"], data)))\n",
    "price_mean = np.mean(list(map(lambda x: x[\"Price\"], data)))\n",
    "\n",
    "\n",
    "\n",
    "\n",
    "review_std = np.std(list(map(lambda x: x[\"Reviews\"], data)))\n",
    "installs_std = np.std(list(map(lambda x: x[\"Installs\"], data)))\n",
    "price_std =np.std(list(map(lambda x: x[\"Price\"], data)))\n",
    "\n",
    "print(review_mean)\n",
    "print(installs_mean)\n",
    "print(price_mean)\n",
    "\n",
    "print(review_std)\n",
    "print(installs_std)\n",
    "print(price_std)\n",
    "\n",
    "data_rating = list(filter(lambda x: not np.isnan(x), list(map(lambda x: x[\"Rating\"], data))))\n",
    " # there are 'nan' strings in the 'Rating' column, this step will ignore 'nan'\n",
    "    \n",
    "ratings_mean = np.mean(data_rating)\n",
    "ratings_std = np.std(data_rating)\n",
    "print(ratings_mean)\n",
    "print(ratings_std)"
   ]
  },
  {
   "cell_type": "code",
   "execution_count": 6,
   "id": "c7d10de7",
   "metadata": {
    "scrolled": true
   },
   "outputs": [
    {
     "name": "stdout",
     "output_type": "stream",
     "text": [
      "Pearsons correlation: 0.643121\n"
     ]
    }
   ],
   "source": [
    "#Q2\n",
    "from scipy.stats import pearsonr\n",
    "\n",
    "# correlation of reviews  and installs\n",
    "corr, _ = pearsonr(list(map(lambda j: j[\"Reviews\"], data)), list(map(lambda j: j[\"Installs\"], data)))\n",
    "print('Pearsons correlation: %3f' % corr)"
   ]
  },
  {
   "cell_type": "code",
   "execution_count": 7,
   "id": "12f6de53",
   "metadata": {
    "scrolled": false
   },
   "outputs": [
    {
     "data": {
      "text/plain": [
       "Everyone           8019\n",
       "Teen               1156\n",
       "Everyone 10+        380\n",
       "Mature 17+          479\n",
       "Adults only 18+       3\n",
       "Unrated               2\n",
       "dtype: int64"
      ]
     },
     "execution_count": 7,
     "metadata": {},
     "output_type": "execute_result"
    }
   ],
   "source": [
    "#Q3 free app\n",
    "\n",
    "price_rating = list(map(lambda x: (x[\"Price\"], x[\"Content Rating\"]), data))\n",
    "\n",
    "free_app = list(filter(lambda x: x[0] == 0,price_rating))\n",
    "\n",
    "# this step is finding the apps without payment from dataset\n",
    "\n",
    "count_dict_free = {}\n",
    "for app in free_app:\n",
    "    count_dict_free[app[1]] = 0\n",
    "for app in free_app:\n",
    "    count_dict_free[app[1]] += 1   \n",
    "    \n",
    "# this step is finding out how many times each types of content rating appears\n",
    "\n",
    "df_free_app = pd.Series(count_dict_free)\n",
    "\n",
    "df_free_app\n"
   ]
  },
  {
   "cell_type": "code",
   "execution_count": 8,
   "id": "5eae20da",
   "metadata": {},
   "outputs": [
    {
     "data": {
      "image/png": "[encoded data removed]",
      "text/plain": [
       "<Figure size 432x288 with 1 Axes>"
      ]
     },
     "metadata": {
      "needs_background": "light"
     },
     "output_type": "display_data"
    }
   ],
   "source": [
    "#Q3 free app plot\n",
    "import matplotlib.pyplot as plt\n",
    "import matplotlib \n",
    "\n",
    "fig = plt.figure()\n",
    "ax = fig.add_axes([0,0,1,1])\n",
    "content_rating = ['Everyone', 'Teen', 'Everyone 10+', 'Mature 17+', 'Adults only 18+','Unrated']\n",
    "numbers = [8019,1156,380,479,3,2]\n",
    "ax.bar(content_rating,numbers)\n",
    "\n",
    "ax.set_xlabel('content_rating', fontsize = 12)\n",
    "ax.set_ylabel('numbers', fontsize = 10)\n",
    "plt.show()"
   ]
  },
  {
   "cell_type": "code",
   "execution_count": 9,
   "id": "bb8804ed",
   "metadata": {},
   "outputs": [
    {
     "data": {
      "text/plain": [
       "Everyone        695\n",
       "Mature 17+       20\n",
       "Teen             52\n",
       "Everyone 10+     33\n",
       "dtype: int64"
      ]
     },
     "execution_count": 9,
     "metadata": {},
     "output_type": "execute_result"
    }
   ],
   "source": [
    "#Q3 not free app\n",
    "\n",
    "paid_app = list(filter(lambda x: x[0] > 0,price_rating))\n",
    "\n",
    "# this step is finding the apps that need payment from dataset\n",
    "\n",
    "count_dict_paid = {}\n",
    "for app in paid_app:\n",
    "    count_dict_paid[app[1]] = 0\n",
    "for app in paid_app:\n",
    "    count_dict_paid[app[1]] += 1        \n",
    "\n",
    "# this step is finding out how many times each types of content rating appears\n",
    "    \n",
    "df_paid_app = pd.Series(count_dict_paid)\n",
    "\n",
    "df_paid_app\n"
   ]
  },
  {
   "cell_type": "code",
   "execution_count": 10,
   "id": "ff9ef5e5",
   "metadata": {},
   "outputs": [
    {
     "data": {
      "image/png": "[encoded data removed]",
      "text/plain": [
       "<Figure size 432x288 with 1 Axes>"
      ]
     },
     "metadata": {
      "needs_background": "light"
     },
     "output_type": "display_data"
    }
   ],
   "source": [
    "#Q3 not free app plot\n",
    "fig = plt.figure()\n",
    "ax = fig.add_axes([0,0,1,1])\n",
    "content_rating = ['Everyone', 'Mature 17+', 'Teen', 'Everyone 10+']\n",
    "numbers = [695,20,52,33]\n",
    "ax.bar(content_rating,numbers)\n",
    "matplotlib.rc('xtick', labelsize=200) \n",
    "matplotlib.rc('ytick', labelsize=20) \n",
    "ax.set_xlabel('content_rating', fontsize = 12)\n",
    "ax.set_ylabel('numbers', fontsize = 10)\n",
    "plt.show()"
   ]
  },
  {
   "cell_type": "code",
   "execution_count": null,
   "id": "13c67340",
   "metadata": {},
   "outputs": [],
   "source": []
  },
  {
   "cell_type": "code",
   "execution_count": null,
   "id": "78003134",
   "metadata": {},
   "outputs": [],
   "source": []
  }
 ],
 "metadata": {
  "kernelspec": {
   "display_name": "Python 3",
   "language": "python",
   "name": "python3"
  },
  "language_info": {
   "codemirror_mode": {
    "name": "ipython",
    "version": 3
   },
   "file_extension": ".py",
   "mimetype": "text/x-python",
   "name": "python",
   "nbconvert_exporter": "python",
   "pygments_lexer": "ipython3",
   "version": "3.8.8"
  }
 },
 "nbformat": 4,
 "nbformat_minor": 5
}
